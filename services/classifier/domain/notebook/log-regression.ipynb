{
  "nbformat": 4,
  "nbformat_minor": 0,
  "metadata": {
    "colab": {
      "provenance": []
    },
    "kernelspec": {
      "name": "python3",
      "display_name": "Python 3"
    },
    "language_info": {
      "name": "python"
    }
  },
  "cells": [
    {
      "cell_type": "code",
      "source": [
        "# https://pypi.org/project/clean-text/\n",
        "!pip install clean-text"
      ],
      "metadata": {
        "colab": {
          "base_uri": "https://localhost:8080/"
        },
        "id": "DycwXKsr9OKj",
        "outputId": "b1a12daf-e9f1-4655-a5e9-1784909597cf"
      },
      "execution_count": 3,
      "outputs": [
        {
          "output_type": "stream",
          "name": "stdout",
          "text": [
            "Collecting clean-text\n",
            "  Downloading clean_text-0.6.0-py3-none-any.whl (11 kB)\n",
            "Collecting emoji<2.0.0,>=1.0.0 (from clean-text)\n",
            "  Downloading emoji-1.7.0.tar.gz (175 kB)\n",
            "\u001b[2K     \u001b[90m━━━━━━━━━━━━━━━━━━━━━━━━━━━━━━━━━━━━━━━━\u001b[0m \u001b[32m175.4/175.4 kB\u001b[0m \u001b[31m5.1 MB/s\u001b[0m eta \u001b[36m0:00:00\u001b[0m\n",
            "\u001b[?25h  Preparing metadata (setup.py) ... \u001b[?25l\u001b[?25hdone\n",
            "Collecting ftfy<7.0,>=6.0 (from clean-text)\n",
            "  Downloading ftfy-6.1.1-py3-none-any.whl (53 kB)\n",
            "\u001b[2K     \u001b[90m━━━━━━━━━━━━━━━━━━━━━━━━━━━━━━━━━━━━━━━━\u001b[0m \u001b[32m53.1/53.1 kB\u001b[0m \u001b[31m8.5 MB/s\u001b[0m eta \u001b[36m0:00:00\u001b[0m\n",
            "\u001b[?25hRequirement already satisfied: wcwidth>=0.2.5 in /usr/local/lib/python3.10/dist-packages (from ftfy<7.0,>=6.0->clean-text) (0.2.9)\n",
            "Building wheels for collected packages: emoji\n",
            "  Building wheel for emoji (setup.py) ... \u001b[?25l\u001b[?25hdone\n",
            "  Created wheel for emoji: filename=emoji-1.7.0-py3-none-any.whl size=171031 sha256=b5a2d314be99bf29037c3fc216823b6fa31bcddc23f661e7732f88352808cc67\n",
            "  Stored in directory: /root/.cache/pip/wheels/31/8a/8c/315c9e5d7773f74b33d5ed33f075b49c6eaeb7cedbb86e2cf8\n",
            "Successfully built emoji\n",
            "Installing collected packages: emoji, ftfy, clean-text\n",
            "Successfully installed clean-text-0.6.0 emoji-1.7.0 ftfy-6.1.1\n"
          ]
        }
      ]
    },
    {
      "cell_type": "code",
      "execution_count": 4,
      "metadata": {
        "colab": {
          "base_uri": "https://localhost:8080/"
        },
        "id": "2FKmlfHs8nDl",
        "outputId": "96ddf889-5353-40c0-cee2-d4f6625fa930"
      },
      "outputs": [
        {
          "output_type": "stream",
          "name": "stderr",
          "text": [
            "WARNING:root:Since the GPL-licensed package `unidecode` is not installed, using Python's `unicodedata` package which yields worse results.\n"
          ]
        }
      ],
      "source": [
        "import pandas as pd\n",
        "import numpy as np\n",
        "\n",
        "from sklearn.utils import shuffle\n",
        "\n",
        "from sklearn.model_selection import train_test_split\n",
        "from sklearn.feature_extraction.text import TfidfVectorizer\n",
        "from sklearn.metrics import classification_report\n",
        "\n",
        "from cleantext import clean"
      ]
    },
    {
      "cell_type": "code",
      "source": [
        "#\n",
        "import nltk\n",
        "from nltk.corpus import stopwords\n",
        "\n",
        "# разбитие текста на предложения, слова, токены\n",
        "nltk.download('punkt')\n",
        "# стоп-слова. которые не несут нагрузки: предлоги, например\n",
        "nltk.download('stopwords')"
      ],
      "metadata": {
        "colab": {
          "base_uri": "https://localhost:8080/"
        },
        "id": "UjhTiDBt9-03",
        "outputId": "3df93b97-aee6-4ab4-d4ec-d7c7d71f91b2"
      },
      "execution_count": 5,
      "outputs": [
        {
          "output_type": "stream",
          "name": "stderr",
          "text": [
            "[nltk_data] Downloading package punkt to /root/nltk_data...\n",
            "[nltk_data]   Unzipping tokenizers/punkt.zip.\n",
            "[nltk_data] Downloading package stopwords to /root/nltk_data...\n",
            "[nltk_data]   Unzipping corpora/stopwords.zip.\n"
          ]
        },
        {
          "output_type": "execute_result",
          "data": {
            "text/plain": [
              "True"
            ]
          },
          "metadata": {},
          "execution_count": 5
        }
      ]
    },
    {
      "cell_type": "code",
      "source": [
        "sw = stopwords.words('russian')\n",
        "sw"
      ],
      "metadata": {
        "colab": {
          "base_uri": "https://localhost:8080/"
        },
        "id": "MfoMUwGu_hF1",
        "outputId": "9c72d721-8133-4489-b3ca-7e8b88f71dd2"
      },
      "execution_count": 6,
      "outputs": [
        {
          "output_type": "execute_result",
          "data": {
            "text/plain": [
              "['и',\n",
              " 'в',\n",
              " 'во',\n",
              " 'не',\n",
              " 'что',\n",
              " 'он',\n",
              " 'на',\n",
              " 'я',\n",
              " 'с',\n",
              " 'со',\n",
              " 'как',\n",
              " 'а',\n",
              " 'то',\n",
              " 'все',\n",
              " 'она',\n",
              " 'так',\n",
              " 'его',\n",
              " 'но',\n",
              " 'да',\n",
              " 'ты',\n",
              " 'к',\n",
              " 'у',\n",
              " 'же',\n",
              " 'вы',\n",
              " 'за',\n",
              " 'бы',\n",
              " 'по',\n",
              " 'только',\n",
              " 'ее',\n",
              " 'мне',\n",
              " 'было',\n",
              " 'вот',\n",
              " 'от',\n",
              " 'меня',\n",
              " 'еще',\n",
              " 'нет',\n",
              " 'о',\n",
              " 'из',\n",
              " 'ему',\n",
              " 'теперь',\n",
              " 'когда',\n",
              " 'даже',\n",
              " 'ну',\n",
              " 'вдруг',\n",
              " 'ли',\n",
              " 'если',\n",
              " 'уже',\n",
              " 'или',\n",
              " 'ни',\n",
              " 'быть',\n",
              " 'был',\n",
              " 'него',\n",
              " 'до',\n",
              " 'вас',\n",
              " 'нибудь',\n",
              " 'опять',\n",
              " 'уж',\n",
              " 'вам',\n",
              " 'ведь',\n",
              " 'там',\n",
              " 'потом',\n",
              " 'себя',\n",
              " 'ничего',\n",
              " 'ей',\n",
              " 'может',\n",
              " 'они',\n",
              " 'тут',\n",
              " 'где',\n",
              " 'есть',\n",
              " 'надо',\n",
              " 'ней',\n",
              " 'для',\n",
              " 'мы',\n",
              " 'тебя',\n",
              " 'их',\n",
              " 'чем',\n",
              " 'была',\n",
              " 'сам',\n",
              " 'чтоб',\n",
              " 'без',\n",
              " 'будто',\n",
              " 'чего',\n",
              " 'раз',\n",
              " 'тоже',\n",
              " 'себе',\n",
              " 'под',\n",
              " 'будет',\n",
              " 'ж',\n",
              " 'тогда',\n",
              " 'кто',\n",
              " 'этот',\n",
              " 'того',\n",
              " 'потому',\n",
              " 'этого',\n",
              " 'какой',\n",
              " 'совсем',\n",
              " 'ним',\n",
              " 'здесь',\n",
              " 'этом',\n",
              " 'один',\n",
              " 'почти',\n",
              " 'мой',\n",
              " 'тем',\n",
              " 'чтобы',\n",
              " 'нее',\n",
              " 'сейчас',\n",
              " 'были',\n",
              " 'куда',\n",
              " 'зачем',\n",
              " 'всех',\n",
              " 'никогда',\n",
              " 'можно',\n",
              " 'при',\n",
              " 'наконец',\n",
              " 'два',\n",
              " 'об',\n",
              " 'другой',\n",
              " 'хоть',\n",
              " 'после',\n",
              " 'над',\n",
              " 'больше',\n",
              " 'тот',\n",
              " 'через',\n",
              " 'эти',\n",
              " 'нас',\n",
              " 'про',\n",
              " 'всего',\n",
              " 'них',\n",
              " 'какая',\n",
              " 'много',\n",
              " 'разве',\n",
              " 'три',\n",
              " 'эту',\n",
              " 'моя',\n",
              " 'впрочем',\n",
              " 'хорошо',\n",
              " 'свою',\n",
              " 'этой',\n",
              " 'перед',\n",
              " 'иногда',\n",
              " 'лучше',\n",
              " 'чуть',\n",
              " 'том',\n",
              " 'нельзя',\n",
              " 'такой',\n",
              " 'им',\n",
              " 'более',\n",
              " 'всегда',\n",
              " 'конечно',\n",
              " 'всю',\n",
              " 'между']"
            ]
          },
          "metadata": {},
          "execution_count": 6
        }
      ]
    },
    {
      "cell_type": "code",
      "source": [
        "path = r'/content/categorised_posts_1696056372.csv'\n",
        "df = pd.read_csv(path)\n",
        "df = df.dropna(subset=['content'])\n",
        "\n",
        "df = df.replace(['РљРЅРёРіРё'], 'Книги')\n",
        "df = df.replace(['РљРёРЅРѕ'], 'Кино')\n",
        "\n",
        "df = df[['content', 'category_ru']]\n",
        "df = df.rename(columns={\"content\": \"text\"})\n",
        "df.head()"
      ],
      "metadata": {
        "colab": {
          "base_uri": "https://localhost:8080/",
          "height": 577
        },
        "id": "GgRZKQ8j_1J2",
        "outputId": "c86b8e54-4159-4fbe-f18e-52397c223185"
      },
      "execution_count": 12,
      "outputs": [
        {
          "output_type": "execute_result",
          "data": {
            "text/plain": [
              "                                                text category_ru\n",
              "0  Путин потребовал разобраться с ростом цен на т...        Авто\n",
              "1  Skoda показала новое поколение кроссовера Kodi...        Авто\n",
              "2  В России цены на новые автомобили продолжают б...        Авто\n",
              "3  АвтоВАЗ запустил онлайн продажи автомобилей ...        Авто\n",
              "4  В августе российские заводы произвели 50 тыс....        Авто"
            ],
            "text/html": [
              "\n",
              "  <div id=\"df-8ce0de37-773c-4e94-952d-ded970945226\" class=\"colab-df-container\">\n",
              "    <div>\n",
              "<style scoped>\n",
              "    .dataframe tbody tr th:only-of-type {\n",
              "        vertical-align: middle;\n",
              "    }\n",
              "\n",
              "    .dataframe tbody tr th {\n",
              "        vertical-align: top;\n",
              "    }\n",
              "\n",
              "    .dataframe thead th {\n",
              "        text-align: right;\n",
              "    }\n",
              "</style>\n",
              "<table border=\"1\" class=\"dataframe\">\n",
              "  <thead>\n",
              "    <tr style=\"text-align: right;\">\n",
              "      <th></th>\n",
              "      <th>text</th>\n",
              "      <th>category_ru</th>\n",
              "    </tr>\n",
              "  </thead>\n",
              "  <tbody>\n",
              "    <tr>\n",
              "      <th>0</th>\n",
              "      <td>Путин потребовал разобраться с ростом цен на т...</td>\n",
              "      <td>Авто</td>\n",
              "    </tr>\n",
              "    <tr>\n",
              "      <th>1</th>\n",
              "      <td>Skoda показала новое поколение кроссовера Kodi...</td>\n",
              "      <td>Авто</td>\n",
              "    </tr>\n",
              "    <tr>\n",
              "      <th>2</th>\n",
              "      <td>В России цены на новые автомобили продолжают б...</td>\n",
              "      <td>Авто</td>\n",
              "    </tr>\n",
              "    <tr>\n",
              "      <th>3</th>\n",
              "      <td>АвтоВАЗ запустил онлайн продажи автомобилей ...</td>\n",
              "      <td>Авто</td>\n",
              "    </tr>\n",
              "    <tr>\n",
              "      <th>4</th>\n",
              "      <td>В августе российские заводы произвели 50 тыс....</td>\n",
              "      <td>Авто</td>\n",
              "    </tr>\n",
              "  </tbody>\n",
              "</table>\n",
              "</div>\n",
              "    <div class=\"colab-df-buttons\">\n",
              "\n",
              "  <div class=\"colab-df-container\">\n",
              "    <button class=\"colab-df-convert\" onclick=\"convertToInteractive('df-8ce0de37-773c-4e94-952d-ded970945226')\"\n",
              "            title=\"Convert this dataframe to an interactive table.\"\n",
              "            style=\"display:none;\">\n",
              "\n",
              "  <svg xmlns=\"http://www.w3.org/2000/svg\" height=\"24px\" viewBox=\"0 -960 960 960\">\n",
              "    <path d=\"M120-120v-720h720v720H120Zm60-500h600v-160H180v160Zm220 220h160v-160H400v160Zm0 220h160v-160H400v160ZM180-400h160v-160H180v160Zm440 0h160v-160H620v160ZM180-180h160v-160H180v160Zm440 0h160v-160H620v160Z\"/>\n",
              "  </svg>\n",
              "    </button>\n",
              "\n",
              "  <style>\n",
              "    .colab-df-container {\n",
              "      display:flex;\n",
              "      gap: 12px;\n",
              "    }\n",
              "\n",
              "    .colab-df-convert {\n",
              "      background-color: #E8F0FE;\n",
              "      border: none;\n",
              "      border-radius: 50%;\n",
              "      cursor: pointer;\n",
              "      display: none;\n",
              "      fill: #1967D2;\n",
              "      height: 32px;\n",
              "      padding: 0 0 0 0;\n",
              "      width: 32px;\n",
              "    }\n",
              "\n",
              "    .colab-df-convert:hover {\n",
              "      background-color: #E2EBFA;\n",
              "      box-shadow: 0px 1px 2px rgba(60, 64, 67, 0.3), 0px 1px 3px 1px rgba(60, 64, 67, 0.15);\n",
              "      fill: #174EA6;\n",
              "    }\n",
              "\n",
              "    .colab-df-buttons div {\n",
              "      margin-bottom: 4px;\n",
              "    }\n",
              "\n",
              "    [theme=dark] .colab-df-convert {\n",
              "      background-color: #3B4455;\n",
              "      fill: #D2E3FC;\n",
              "    }\n",
              "\n",
              "    [theme=dark] .colab-df-convert:hover {\n",
              "      background-color: #434B5C;\n",
              "      box-shadow: 0px 1px 3px 1px rgba(0, 0, 0, 0.15);\n",
              "      filter: drop-shadow(0px 1px 2px rgba(0, 0, 0, 0.3));\n",
              "      fill: #FFFFFF;\n",
              "    }\n",
              "  </style>\n",
              "\n",
              "    <script>\n",
              "      const buttonEl =\n",
              "        document.querySelector('#df-8ce0de37-773c-4e94-952d-ded970945226 button.colab-df-convert');\n",
              "      buttonEl.style.display =\n",
              "        google.colab.kernel.accessAllowed ? 'block' : 'none';\n",
              "\n",
              "      async function convertToInteractive(key) {\n",
              "        const element = document.querySelector('#df-8ce0de37-773c-4e94-952d-ded970945226');\n",
              "        const dataTable =\n",
              "          await google.colab.kernel.invokeFunction('convertToInteractive',\n",
              "                                                    [key], {});\n",
              "        if (!dataTable) return;\n",
              "\n",
              "        const docLinkHtml = 'Like what you see? Visit the ' +\n",
              "          '<a target=\"_blank\" href=https://colab.research.google.com/notebooks/data_table.ipynb>data table notebook</a>'\n",
              "          + ' to learn more about interactive tables.';\n",
              "        element.innerHTML = '';\n",
              "        dataTable['output_type'] = 'display_data';\n",
              "        await google.colab.output.renderOutput(dataTable, element);\n",
              "        const docLink = document.createElement('div');\n",
              "        docLink.innerHTML = docLinkHtml;\n",
              "        element.appendChild(docLink);\n",
              "      }\n",
              "    </script>\n",
              "  </div>\n",
              "\n",
              "\n",
              "<div id=\"df-80046c68-92d9-4571-ae63-c325f099a2e0\">\n",
              "  <button class=\"colab-df-quickchart\" onclick=\"quickchart('df-80046c68-92d9-4571-ae63-c325f099a2e0')\"\n",
              "            title=\"Suggest charts\"\n",
              "            style=\"display:none;\">\n",
              "\n",
              "<svg xmlns=\"http://www.w3.org/2000/svg\" height=\"24px\"viewBox=\"0 0 24 24\"\n",
              "     width=\"24px\">\n",
              "    <g>\n",
              "        <path d=\"M19 3H5c-1.1 0-2 .9-2 2v14c0 1.1.9 2 2 2h14c1.1 0 2-.9 2-2V5c0-1.1-.9-2-2-2zM9 17H7v-7h2v7zm4 0h-2V7h2v10zm4 0h-2v-4h2v4z\"/>\n",
              "    </g>\n",
              "</svg>\n",
              "  </button>\n",
              "\n",
              "<style>\n",
              "  .colab-df-quickchart {\n",
              "      --bg-color: #E8F0FE;\n",
              "      --fill-color: #1967D2;\n",
              "      --hover-bg-color: #E2EBFA;\n",
              "      --hover-fill-color: #174EA6;\n",
              "      --disabled-fill-color: #AAA;\n",
              "      --disabled-bg-color: #DDD;\n",
              "  }\n",
              "\n",
              "  [theme=dark] .colab-df-quickchart {\n",
              "      --bg-color: #3B4455;\n",
              "      --fill-color: #D2E3FC;\n",
              "      --hover-bg-color: #434B5C;\n",
              "      --hover-fill-color: #FFFFFF;\n",
              "      --disabled-bg-color: #3B4455;\n",
              "      --disabled-fill-color: #666;\n",
              "  }\n",
              "\n",
              "  .colab-df-quickchart {\n",
              "    background-color: var(--bg-color);\n",
              "    border: none;\n",
              "    border-radius: 50%;\n",
              "    cursor: pointer;\n",
              "    display: none;\n",
              "    fill: var(--fill-color);\n",
              "    height: 32px;\n",
              "    padding: 0;\n",
              "    width: 32px;\n",
              "  }\n",
              "\n",
              "  .colab-df-quickchart:hover {\n",
              "    background-color: var(--hover-bg-color);\n",
              "    box-shadow: 0 1px 2px rgba(60, 64, 67, 0.3), 0 1px 3px 1px rgba(60, 64, 67, 0.15);\n",
              "    fill: var(--button-hover-fill-color);\n",
              "  }\n",
              "\n",
              "  .colab-df-quickchart-complete:disabled,\n",
              "  .colab-df-quickchart-complete:disabled:hover {\n",
              "    background-color: var(--disabled-bg-color);\n",
              "    fill: var(--disabled-fill-color);\n",
              "    box-shadow: none;\n",
              "  }\n",
              "\n",
              "  .colab-df-spinner {\n",
              "    border: 2px solid var(--fill-color);\n",
              "    border-color: transparent;\n",
              "    border-bottom-color: var(--fill-color);\n",
              "    animation:\n",
              "      spin 1s steps(1) infinite;\n",
              "  }\n",
              "\n",
              "  @keyframes spin {\n",
              "    0% {\n",
              "      border-color: transparent;\n",
              "      border-bottom-color: var(--fill-color);\n",
              "      border-left-color: var(--fill-color);\n",
              "    }\n",
              "    20% {\n",
              "      border-color: transparent;\n",
              "      border-left-color: var(--fill-color);\n",
              "      border-top-color: var(--fill-color);\n",
              "    }\n",
              "    30% {\n",
              "      border-color: transparent;\n",
              "      border-left-color: var(--fill-color);\n",
              "      border-top-color: var(--fill-color);\n",
              "      border-right-color: var(--fill-color);\n",
              "    }\n",
              "    40% {\n",
              "      border-color: transparent;\n",
              "      border-right-color: var(--fill-color);\n",
              "      border-top-color: var(--fill-color);\n",
              "    }\n",
              "    60% {\n",
              "      border-color: transparent;\n",
              "      border-right-color: var(--fill-color);\n",
              "    }\n",
              "    80% {\n",
              "      border-color: transparent;\n",
              "      border-right-color: var(--fill-color);\n",
              "      border-bottom-color: var(--fill-color);\n",
              "    }\n",
              "    90% {\n",
              "      border-color: transparent;\n",
              "      border-bottom-color: var(--fill-color);\n",
              "    }\n",
              "  }\n",
              "</style>\n",
              "\n",
              "  <script>\n",
              "    async function quickchart(key) {\n",
              "      const quickchartButtonEl =\n",
              "        document.querySelector('#' + key + ' button');\n",
              "      quickchartButtonEl.disabled = true;  // To prevent multiple clicks.\n",
              "      quickchartButtonEl.classList.add('colab-df-spinner');\n",
              "      try {\n",
              "        const charts = await google.colab.kernel.invokeFunction(\n",
              "            'suggestCharts', [key], {});\n",
              "      } catch (error) {\n",
              "        console.error('Error during call to suggestCharts:', error);\n",
              "      }\n",
              "      quickchartButtonEl.classList.remove('colab-df-spinner');\n",
              "      quickchartButtonEl.classList.add('colab-df-quickchart-complete');\n",
              "    }\n",
              "    (() => {\n",
              "      let quickchartButtonEl =\n",
              "        document.querySelector('#df-80046c68-92d9-4571-ae63-c325f099a2e0 button');\n",
              "      quickchartButtonEl.style.display =\n",
              "        google.colab.kernel.accessAllowed ? 'block' : 'none';\n",
              "    })();\n",
              "  </script>\n",
              "</div>\n",
              "    </div>\n",
              "  </div>\n"
            ]
          },
          "metadata": {},
          "execution_count": 12
        }
      ]
    },
    {
      "cell_type": "code",
      "source": [
        "# текущий набор тем и категорий\n",
        "domain_tags = {\n",
        "    'Авто': 'Транспорт',\n",
        "    'Банки и кредиты': 'Финансы',\n",
        "    'Беременность и роды': 'Семья и дети',\n",
        "    'Билеты': 'Отдых и путешествия',\n",
        "    'Бухгалтерские услуги': 'Бизнес',\n",
        "    'Бытовая техника': 'Бытовая техника',\n",
        "    'Грузоперевозки и транспортные услуги': 'Бизнес',\n",
        "    'Дизайн интерьера': 'Строительство, обустройство и ремонт',\n",
        "    'Домашние животные': 'Животные',\n",
        "    'Дополнительное образование и курсы': 'Образование',\n",
        "    'Доставка воды': 'Еда и напитки',\n",
        "    'Доставка готовых блюд и продуктов': 'Еда и напитки',\n",
        "    'Доступ в интернет и мобильная связь': 'Телеком',\n",
        "    'Зарубежный туризм': 'Отдых и путешествия',\n",
        "    'Здоровое питание': 'Красота и здоровье',\n",
        "    'Игры': 'Развлечения и досуг',\n",
        "    'Инвестиции': 'Финансы',\n",
        "    'Канцелярские товары': 'Канцелярские товары',\n",
        "    'Кино': 'Развлечения и досуг',\n",
        "    'Книги': 'Развлечения и досуг',\n",
        "    'Компьютерная техника': 'Электроника',\n",
        "    'Кулинария': 'Еда и напитки',\n",
        "    'Мебель': 'Строительство, обустройство и ремонт',\n",
        "    'Медицина': 'Красота и здоровье',\n",
        "    'Мото': 'Транспорт',\n",
        "    'Музыка': 'Развлечения и досуг',\n",
        "    'Одежда и обувь': 'Одежда, обувь и аксессуары',\n",
        "    'Охота': 'Развлечения и досуг',\n",
        "    'Парфюмерия и косметика': 'Красота и здоровье',\n",
        "    'Подарки и цветы': 'Подарки и цветы',\n",
        "    'Покупка и аренда': 'Недвижимость',\n",
        "    'Принтеры и МФУ': 'Электроника',\n",
        "    'Прокат автомобилей': 'Отдых и путешествия',\n",
        "    'Работа': 'Работа',\n",
        "    'Ремонт': 'Строительство, обустройство и ремонт',\n",
        "    'Рестораны': 'Развлечения и досуг',\n",
        "    'Российский туризм': 'Отдых и путешествия',\n",
        "    'Рыбалка': 'Развлечения и досуг',\n",
        "    'Свадьба': 'Семья и дети',\n",
        "    'Сельскохозяйственное оборудование и техника': 'Сельскохозяйственное оборудование и техника',\n",
        "    'Смартфоны и гаджеты': 'Электроника',\n",
        "    'Создание и продвижение сайтов': 'Бизнес',\n",
        "    'Спорт': 'Спорт',\n",
        "    'Танцы': 'Развлечения и досуг',\n",
        "    'Театры': 'Развлечения и досуг',\n",
        "    'Телевидение': 'Развлечения и досуг',\n",
        "    'Товары для детей': 'Семья и дети',\n",
        "    'Товары для дома': 'Строительство, обустройство и ремонт',\n",
        "    'Форекс': 'Финансы',\n",
        "    'Фото, видео и аудиотехника': 'Электроника',\n",
        "    'Школа и вуз': 'Образование',\n",
        "    'Юридические услуги': 'Бизнес'\n",
        "}"
      ],
      "metadata": {
        "id": "rNdoqyw5CRXD"
      },
      "execution_count": 13,
      "outputs": []
    },
    {
      "cell_type": "code",
      "source": [
        "target_tags = dict()\n",
        "categories = sorted(list(df.category_ru.unique()))\n",
        "\n",
        "for i in range(len(categories)):\n",
        "    target_tags[categories[i]] = i\n",
        "target_tags"
      ],
      "metadata": {
        "colab": {
          "base_uri": "https://localhost:8080/"
        },
        "id": "tfgqdA_FCmDc",
        "outputId": "e6e7ae10-50fb-49e7-8904-02189860447a"
      },
      "execution_count": 15,
      "outputs": [
        {
          "output_type": "execute_result",
          "data": {
            "text/plain": [
              "{'Авто': 0,\n",
              " 'Банки и кредиты': 1,\n",
              " 'Беременность и роды': 2,\n",
              " 'Билеты': 3,\n",
              " 'Бухгалтерские услуги': 4,\n",
              " 'Бытовая техника': 5,\n",
              " 'Грузоперевозки и транспортные услуги': 6,\n",
              " 'Дизайн интерьера': 7,\n",
              " 'Домашние животные': 8,\n",
              " 'Дополнительное образование и курсы': 9,\n",
              " 'Доставка воды': 10,\n",
              " 'Доставка готовых блюд и продуктов': 11,\n",
              " 'Доступ в интернет и мобильня связь': 12,\n",
              " 'Зарубежный туризм': 13,\n",
              " 'Здоровое питание': 14,\n",
              " 'Игры': 15,\n",
              " 'Инвестиции': 16,\n",
              " 'Канцелярские товары': 17,\n",
              " 'Кино': 18,\n",
              " 'Книги': 19,\n",
              " 'Компьютерная техника': 20,\n",
              " 'Кулинария': 21,\n",
              " 'Мебель': 22,\n",
              " 'Медицина': 23,\n",
              " 'Мото': 24,\n",
              " 'Музыка': 25,\n",
              " 'Одежда и обувь': 26,\n",
              " 'Охота': 27,\n",
              " 'Парфюмерия и косметика': 28,\n",
              " 'Подарки и цветы': 29,\n",
              " 'Покупка и аренда': 30,\n",
              " 'Принтеры и МФУ': 31,\n",
              " 'Прокат автомобилей': 32,\n",
              " 'Работа': 33,\n",
              " 'Ремонт': 34,\n",
              " 'Рестораны': 35,\n",
              " 'Российский туризм': 36,\n",
              " 'Рыбалка': 37,\n",
              " 'Свадьба': 38,\n",
              " 'Сельскохозяйственное оборудование и техника': 39,\n",
              " 'Смартфоны и гаджеты': 40,\n",
              " 'Создание и продвижение сайтов': 41,\n",
              " 'Спорт': 42,\n",
              " 'Танцы': 43,\n",
              " 'Театры': 44,\n",
              " 'Телевидение': 45,\n",
              " 'Товары для детей': 46,\n",
              " 'Товары для дома': 47,\n",
              " 'Форекс': 48,\n",
              " 'Фото, видео и аудиотехника': 49,\n",
              " 'Школа и вуз': 50,\n",
              " 'Юридические услуги': 51}"
            ]
          },
          "metadata": {},
          "execution_count": 15
        }
      ]
    },
    {
      "cell_type": "code",
      "source": [
        "# собираем из разных (сейчас 1) наборов один полноценный\n",
        "df_res = pd.concat([\n",
        "    df\n",
        "                    ])"
      ],
      "metadata": {
        "id": "hPlM0dqlEWC8"
      },
      "execution_count": 17,
      "outputs": []
    },
    {
      "cell_type": "code",
      "source": [
        "# обработка датасета на длину строк: вычилить длину и оставить только больше 30 символов\n",
        "df_res['text_legth'] = df_res['text'].apply(lambda x: len(x) if type(x)==str else 0)\n",
        "df_res = df_res[(df_res['text_legth']>30)]\n",
        "\n",
        "# очситка датасета: удаление эмодзи и применение to_ascii=False\n",
        "df_res['target'] = df_res['category_ru'].apply(lambda x: target_tags[x])\n",
        "df_res['text_clean'] = df_res['text'].apply(lambda x: clean(x, no_emoji=True, to_ascii=False))\n",
        "\n",
        "# перемешать, чтобы в датасете были данные ранломно расположены, а не по порядку\n",
        "df_res = shuffle(df_res, random_state=2024)"
      ],
      "metadata": {
        "colab": {
          "base_uri": "https://localhost:8080/"
        },
        "id": "ZSimHUtYCyh4",
        "outputId": "a5008a67-6d40-4609-a25f-0e0b2d45b79c"
      },
      "execution_count": 18,
      "outputs": [
        {
          "output_type": "stream",
          "name": "stderr",
          "text": [
            "<ipython-input-18-00d11df3f9a4>:6: SettingWithCopyWarning: \n",
            "A value is trying to be set on a copy of a slice from a DataFrame.\n",
            "Try using .loc[row_indexer,col_indexer] = value instead\n",
            "\n",
            "See the caveats in the documentation: https://pandas.pydata.org/pandas-docs/stable/user_guide/indexing.html#returning-a-view-versus-a-copy\n",
            "  df_res['target'] = df_res['category_ru'].apply(lambda x: target_tags[x])\n"
          ]
        }
      ]
    },
    {
      "cell_type": "code",
      "source": [
        "# определение тестовой и тренирочной выборки\n",
        "X = df_res['text_clean']\n",
        "y = df_res['target']\n",
        "\n",
        "X_train, X_test, y_train, y_test = train_test_split(X, y, train_size=0.8, random_state=42)"
      ],
      "metadata": {
        "id": "NShJnmAYESnb"
      },
      "execution_count": 19,
      "outputs": []
    },
    {
      "cell_type": "code",
      "source": [
        "# Определение важности слов\n",
        "'''\n",
        "TF-IDF вычисляет важность каждого слова в документе относительно количества его употреблений\n",
        "в данном документе и во всей коллекции текстов.\n",
        "Этот метод позволяет выделить ключевые слова и понять,\n",
        "какие слова имеют больший вес для определенного документа в контексте всей коллекции.\n",
        "'''\n",
        "vect_word = TfidfVectorizer(\n",
        "    max_features=6000,\n",
        "    lowercase=True,\n",
        "    analyzer=\"word\",\n",
        "    stop_words=sw,\n",
        "    ngram_range=(1, 7),\n",
        "    dtype=np.float32\n",
        ")"
      ],
      "metadata": {
        "id": "zVI70eqkGJXs"
      },
      "execution_count": 20,
      "outputs": []
    },
    {
      "cell_type": "code",
      "source": [
        "# Train tf-idf\n",
        "X_train_tfidf = vect_word.fit_transform(X_train)\n",
        "\n",
        "# Map tf-idf on test\n",
        "X_test_tfidf = vect_word.transform(X_test)"
      ],
      "metadata": {
        "id": "rSW_T4oLGy2L"
      },
      "execution_count": 21,
      "outputs": []
    },
    {
      "cell_type": "code",
      "source": [
        "from sklearn.linear_model import LogisticRegression"
      ],
      "metadata": {
        "id": "_P591OajG29I"
      },
      "execution_count": 22,
      "outputs": []
    },
    {
      "cell_type": "code",
      "source": [
        "# Init logreg model\n",
        "logreg = LogisticRegression(\n",
        "    C=2.5, #Обратная сила регуляризации;Выбор оптимального значения C часто осуществляется с использованием методов кросс-валидации\n",
        "    random_state=42,\n",
        "    solver='saga'#определяет алгоритм, используемый для оптимизации функции потерь\n",
        ")"
      ],
      "metadata": {
        "id": "FDDWhnPDG4bg"
      },
      "execution_count": 23,
      "outputs": []
    },
    {
      "cell_type": "markdown",
      "source": [
        "#### Инициализация и обучение модели логистической регрессии"
      ],
      "metadata": {
        "id": "L4flI1ujH8Uy"
      }
    },
    {
      "cell_type": "code",
      "source": [
        "# Train logreg\n",
        "logreg.fit(X_train_tfidf, y_train)"
      ],
      "metadata": {
        "colab": {
          "base_uri": "https://localhost:8080/",
          "height": 75
        },
        "id": "i-PEMJglG5xS",
        "outputId": "52e39760-efeb-4143-ca81-972b42166502"
      },
      "execution_count": 24,
      "outputs": [
        {
          "output_type": "execute_result",
          "data": {
            "text/plain": [
              "LogisticRegression(C=2.5, random_state=42, solver='saga')"
            ],
            "text/html": [
              "<style>#sk-container-id-1 {color: black;background-color: white;}#sk-container-id-1 pre{padding: 0;}#sk-container-id-1 div.sk-toggleable {background-color: white;}#sk-container-id-1 label.sk-toggleable__label {cursor: pointer;display: block;width: 100%;margin-bottom: 0;padding: 0.3em;box-sizing: border-box;text-align: center;}#sk-container-id-1 label.sk-toggleable__label-arrow:before {content: \"▸\";float: left;margin-right: 0.25em;color: #696969;}#sk-container-id-1 label.sk-toggleable__label-arrow:hover:before {color: black;}#sk-container-id-1 div.sk-estimator:hover label.sk-toggleable__label-arrow:before {color: black;}#sk-container-id-1 div.sk-toggleable__content {max-height: 0;max-width: 0;overflow: hidden;text-align: left;background-color: #f0f8ff;}#sk-container-id-1 div.sk-toggleable__content pre {margin: 0.2em;color: black;border-radius: 0.25em;background-color: #f0f8ff;}#sk-container-id-1 input.sk-toggleable__control:checked~div.sk-toggleable__content {max-height: 200px;max-width: 100%;overflow: auto;}#sk-container-id-1 input.sk-toggleable__control:checked~label.sk-toggleable__label-arrow:before {content: \"▾\";}#sk-container-id-1 div.sk-estimator input.sk-toggleable__control:checked~label.sk-toggleable__label {background-color: #d4ebff;}#sk-container-id-1 div.sk-label input.sk-toggleable__control:checked~label.sk-toggleable__label {background-color: #d4ebff;}#sk-container-id-1 input.sk-hidden--visually {border: 0;clip: rect(1px 1px 1px 1px);clip: rect(1px, 1px, 1px, 1px);height: 1px;margin: -1px;overflow: hidden;padding: 0;position: absolute;width: 1px;}#sk-container-id-1 div.sk-estimator {font-family: monospace;background-color: #f0f8ff;border: 1px dotted black;border-radius: 0.25em;box-sizing: border-box;margin-bottom: 0.5em;}#sk-container-id-1 div.sk-estimator:hover {background-color: #d4ebff;}#sk-container-id-1 div.sk-parallel-item::after {content: \"\";width: 100%;border-bottom: 1px solid gray;flex-grow: 1;}#sk-container-id-1 div.sk-label:hover label.sk-toggleable__label {background-color: #d4ebff;}#sk-container-id-1 div.sk-serial::before {content: \"\";position: absolute;border-left: 1px solid gray;box-sizing: border-box;top: 0;bottom: 0;left: 50%;z-index: 0;}#sk-container-id-1 div.sk-serial {display: flex;flex-direction: column;align-items: center;background-color: white;padding-right: 0.2em;padding-left: 0.2em;position: relative;}#sk-container-id-1 div.sk-item {position: relative;z-index: 1;}#sk-container-id-1 div.sk-parallel {display: flex;align-items: stretch;justify-content: center;background-color: white;position: relative;}#sk-container-id-1 div.sk-item::before, #sk-container-id-1 div.sk-parallel-item::before {content: \"\";position: absolute;border-left: 1px solid gray;box-sizing: border-box;top: 0;bottom: 0;left: 50%;z-index: -1;}#sk-container-id-1 div.sk-parallel-item {display: flex;flex-direction: column;z-index: 1;position: relative;background-color: white;}#sk-container-id-1 div.sk-parallel-item:first-child::after {align-self: flex-end;width: 50%;}#sk-container-id-1 div.sk-parallel-item:last-child::after {align-self: flex-start;width: 50%;}#sk-container-id-1 div.sk-parallel-item:only-child::after {width: 0;}#sk-container-id-1 div.sk-dashed-wrapped {border: 1px dashed gray;margin: 0 0.4em 0.5em 0.4em;box-sizing: border-box;padding-bottom: 0.4em;background-color: white;}#sk-container-id-1 div.sk-label label {font-family: monospace;font-weight: bold;display: inline-block;line-height: 1.2em;}#sk-container-id-1 div.sk-label-container {text-align: center;}#sk-container-id-1 div.sk-container {/* jupyter's `normalize.less` sets `[hidden] { display: none; }` but bootstrap.min.css set `[hidden] { display: none !important; }` so we also need the `!important` here to be able to override the default hidden behavior on the sphinx rendered scikit-learn.org. See: https://github.com/scikit-learn/scikit-learn/issues/21755 */display: inline-block !important;position: relative;}#sk-container-id-1 div.sk-text-repr-fallback {display: none;}</style><div id=\"sk-container-id-1\" class=\"sk-top-container\"><div class=\"sk-text-repr-fallback\"><pre>LogisticRegression(C=2.5, random_state=42, solver=&#x27;saga&#x27;)</pre><b>In a Jupyter environment, please rerun this cell to show the HTML representation or trust the notebook. <br />On GitHub, the HTML representation is unable to render, please try loading this page with nbviewer.org.</b></div><div class=\"sk-container\" hidden><div class=\"sk-item\"><div class=\"sk-estimator sk-toggleable\"><input class=\"sk-toggleable__control sk-hidden--visually\" id=\"sk-estimator-id-1\" type=\"checkbox\" checked><label for=\"sk-estimator-id-1\" class=\"sk-toggleable__label sk-toggleable__label-arrow\">LogisticRegression</label><div class=\"sk-toggleable__content\"><pre>LogisticRegression(C=2.5, random_state=42, solver=&#x27;saga&#x27;)</pre></div></div></div></div></div>"
            ]
          },
          "metadata": {},
          "execution_count": 24
        }
      ]
    },
    {
      "cell_type": "markdown",
      "source": [
        "#### Предсказание вероятностей и классов на тестовых данных:"
      ],
      "metadata": {
        "id": "k4bivo5sIFja"
      }
    },
    {
      "cell_type": "code",
      "source": [
        "# Predict probabilities\n",
        "preds_proba = logreg.predict_proba(X_test_tfidf)\n",
        "# Get classes\n",
        "preds = np.argmax(preds_proba, axis=1)"
      ],
      "metadata": {
        "id": "8UnKyRUuG77M"
      },
      "execution_count": 25,
      "outputs": []
    },
    {
      "cell_type": "code",
      "source": [
        "print(classification_report(y_test, preds, target_names=categories))"
      ],
      "metadata": {
        "colab": {
          "base_uri": "https://localhost:8080/"
        },
        "id": "ZiA7sDrSG94R",
        "outputId": "9d16ff71-a501-475f-fd16-a582463b105b"
      },
      "execution_count": 26,
      "outputs": [
        {
          "output_type": "stream",
          "name": "stdout",
          "text": [
            "                                             precision    recall  f1-score   support\n",
            "\n",
            "                                       Авто       0.84      0.71      0.77       124\n",
            "                            Банки и кредиты       0.71      0.59      0.64       177\n",
            "                        Беременность и роды       0.72      0.63      0.67        99\n",
            "                                     Билеты       0.91      0.78      0.84       139\n",
            "                       Бухгалтерские услуги       0.70      0.85      0.76       534\n",
            "                            Бытовая техника       0.92      0.69      0.79        88\n",
            "       Грузоперевозки и транспортные услуги       0.98      0.76      0.86        79\n",
            "                           Дизайн интерьера       0.77      0.58      0.66        81\n",
            "                          Домашние животные       0.83      0.34      0.49        29\n",
            "         Дополнительное образование и курсы       0.67      0.65      0.66       236\n",
            "                              Доставка воды       0.83      0.58      0.68        33\n",
            "          Доставка готовых блюд и продуктов       0.82      0.78      0.80       197\n",
            "         Доступ в интернет и мобильня связь       0.69      0.71      0.70       303\n",
            "                          Зарубежный туризм       0.81      0.60      0.69       106\n",
            "                           Здоровое питание       0.69      0.61      0.65       166\n",
            "                                       Игры       0.87      0.82      0.84       176\n",
            "                                 Инвестиции       0.67      0.66      0.67       115\n",
            "                        Канцелярские товары       0.65      0.34      0.45        76\n",
            "                                       Кино       0.72      0.82      0.77       535\n",
            "                                      Книги       0.55      0.81      0.65       639\n",
            "                       Компьютерная техника       0.84      0.30      0.44        87\n",
            "                                  Кулинария       0.86      0.91      0.89       186\n",
            "                                     Мебель       0.85      0.80      0.82       203\n",
            "                                   Медицина       0.58      0.42      0.49       113\n",
            "                                       Мото       0.82      0.66      0.73       134\n",
            "                                     Музыка       0.86      0.46      0.60        69\n",
            "                             Одежда и обувь       0.67      0.83      0.74       368\n",
            "                                      Охота       0.64      0.56      0.60       146\n",
            "                     Парфюмерия и косметика       0.92      0.80      0.86        76\n",
            "                            Подарки и цветы       0.93      0.68      0.79        57\n",
            "                           Покупка и аренда       0.89      0.62      0.73       154\n",
            "                             Принтеры и МФУ       0.91      0.57      0.70        91\n",
            "                         Прокат автомобилей       0.71      0.66      0.69       176\n",
            "                                     Работа       0.90      0.90      0.90       296\n",
            "                                     Ремонт       0.69      0.52      0.59        98\n",
            "                                  Рестораны       0.81      0.69      0.74       106\n",
            "                          Российский туризм       0.92      0.60      0.73        60\n",
            "                                    Рыбалка       0.78      0.61      0.68        74\n",
            "                                    Свадьба       0.69      0.39      0.50        64\n",
            "Сельскохозяйственное оборудование и техника       0.98      0.66      0.79        62\n",
            "                        Смартфоны и гаджеты       0.71      0.81      0.76       598\n",
            "              Создание и продвижение сайтов       0.82      0.77      0.79       133\n",
            "                                      Спорт       0.69      0.79      0.74       458\n",
            "                                      Танцы       0.73      0.80      0.77       399\n",
            "                                     Театры       0.87      0.77      0.82       119\n",
            "                                Телевидение       0.76      0.53      0.63       137\n",
            "                           Товары для детей       1.00      0.19      0.32        31\n",
            "                            Товары для дома       0.77      0.59      0.67        87\n",
            "                                     Форекс       0.84      0.66      0.74        56\n",
            "                 Фото, видео и аудиотехника       0.75      0.67      0.71       159\n",
            "                                Школа и вуз       0.65      0.75      0.69       498\n",
            "                         Юридические услуги       0.75      0.17      0.28        35\n",
            "\n",
            "                                   accuracy                           0.73      9262\n",
            "                                  macro avg       0.79      0.64      0.69      9262\n",
            "                               weighted avg       0.74      0.73      0.72      9262\n",
            "\n"
          ]
        }
      ]
    },
    {
      "cell_type": "markdown",
      "source": [
        "#### Импортируем модельку"
      ],
      "metadata": {
        "id": "6IxKrK4FIY-2"
      }
    },
    {
      "cell_type": "code",
      "source": [
        "import pickle\n",
        "\n",
        "# Сохранение TF-IDF векторизатора:\n",
        "pickle.dump(vect_word, open('tf_idf_word_vectorizer', 'wb')) # pickling\n",
        "# Сохранение модели логистической регрессии:\n",
        "pickle.dump(logreg, open('logreg_classifier', 'wb')) # pickling"
      ],
      "metadata": {
        "id": "4aKAeRviIQe1"
      },
      "execution_count": 27,
      "outputs": []
    }
  ]
}